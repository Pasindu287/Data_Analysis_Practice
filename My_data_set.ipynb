{
 "cells": [
  {
   "cell_type": "code",
   "execution_count": 1,
   "metadata": {},
   "outputs": [
    {
     "data": {
      "text/html": [
       "<div>\n",
       "<style scoped>\n",
       "    .dataframe tbody tr th:only-of-type {\n",
       "        vertical-align: middle;\n",
       "    }\n",
       "\n",
       "    .dataframe tbody tr th {\n",
       "        vertical-align: top;\n",
       "    }\n",
       "\n",
       "    .dataframe thead th {\n",
       "        text-align: right;\n",
       "    }\n",
       "</style>\n",
       "<table border=\"1\" class=\"dataframe\">\n",
       "  <thead>\n",
       "    <tr style=\"text-align: right;\">\n",
       "      <th></th>\n",
       "      <th>SHOP_ID</th>\n",
       "      <th>REVIEW_ID</th>\n",
       "      <th>LOCAL_GUIDE</th>\n",
       "      <th>NAME</th>\n",
       "      <th>REVIEW_STARS</th>\n",
       "      <th>REVIEW</th>\n",
       "    </tr>\n",
       "  </thead>\n",
       "  <tbody>\n",
       "    <tr>\n",
       "      <th>0</th>\n",
       "      <td>100001</td>\n",
       "      <td>300001</td>\n",
       "      <td>600001</td>\n",
       "      <td>azam hamza</td>\n",
       "      <td>4 stars</td>\n",
       "      <td>But over pricy</td>\n",
       "    </tr>\n",
       "    <tr>\n",
       "      <th>1</th>\n",
       "      <td>100001</td>\n",
       "      <td>300002</td>\n",
       "      <td>600002</td>\n",
       "      <td>Dimas Prihadi</td>\n",
       "      <td>5 stars</td>\n",
       "      <td>Always love Java Lounge</td>\n",
       "    </tr>\n",
       "    <tr>\n",
       "      <th>2</th>\n",
       "      <td>100001</td>\n",
       "      <td>300003</td>\n",
       "      <td>600003</td>\n",
       "      <td>Udi Keidar</td>\n",
       "      <td>1 star</td>\n",
       "      <td>Bad service~ dissapointing coffee and good. No...</td>\n",
       "    </tr>\n",
       "    <tr>\n",
       "      <th>3</th>\n",
       "      <td>100001</td>\n",
       "      <td>300004</td>\n",
       "      <td>600004</td>\n",
       "      <td>Charmi Lankeshwari</td>\n",
       "      <td>5 stars</td>\n",
       "      <td>Lovely strawberry cheesecake... N had alot of ...</td>\n",
       "    </tr>\n",
       "    <tr>\n",
       "      <th>4</th>\n",
       "      <td>100001</td>\n",
       "      <td>300005</td>\n",
       "      <td>600005</td>\n",
       "      <td>menaka Indunil</td>\n",
       "      <td>5 stars</td>\n",
       "      <td>Grate place to have a refreshment</td>\n",
       "    </tr>\n",
       "    <tr>\n",
       "      <th>...</th>\n",
       "      <td>...</td>\n",
       "      <td>...</td>\n",
       "      <td>...</td>\n",
       "      <td>...</td>\n",
       "      <td>...</td>\n",
       "      <td>...</td>\n",
       "    </tr>\n",
       "    <tr>\n",
       "      <th>554</th>\n",
       "      <td>100078</td>\n",
       "      <td>300563</td>\n",
       "      <td>NOOB</td>\n",
       "      <td>Ahmed Sharuvaan</td>\n",
       "      <td>5 stars</td>\n",
       "      <td>NaN</td>\n",
       "    </tr>\n",
       "    <tr>\n",
       "      <th>555</th>\n",
       "      <td>100078</td>\n",
       "      <td>300564</td>\n",
       "      <td>600514</td>\n",
       "      <td>Zafar Ahmed Zia</td>\n",
       "      <td>5 stars</td>\n",
       "      <td>NaN</td>\n",
       "    </tr>\n",
       "    <tr>\n",
       "      <th>556</th>\n",
       "      <td>100078</td>\n",
       "      <td>300565</td>\n",
       "      <td>FALSE</td>\n",
       "      <td>Ajeemushshan Iqbal</td>\n",
       "      <td>3 stars</td>\n",
       "      <td>NaN</td>\n",
       "    </tr>\n",
       "    <tr>\n",
       "      <th>557</th>\n",
       "      <td>100078</td>\n",
       "      <td>300566</td>\n",
       "      <td>600515</td>\n",
       "      <td>Raizar Moulana</td>\n",
       "      <td>5 stars</td>\n",
       "      <td>NaN</td>\n",
       "    </tr>\n",
       "    <tr>\n",
       "      <th>558</th>\n",
       "      <td>100078</td>\n",
       "      <td>300567</td>\n",
       "      <td>NOOB</td>\n",
       "      <td>Ibrahin Ibrahim mohamed</td>\n",
       "      <td>4 stars</td>\n",
       "      <td>NaN</td>\n",
       "    </tr>\n",
       "  </tbody>\n",
       "</table>\n",
       "<p>559 rows × 6 columns</p>\n",
       "</div>"
      ],
      "text/plain": [
       "     SHOP_ID  REVIEW_ID LOCAL_GUIDE                     NAME REVIEW_STARS  \\\n",
       "0     100001     300001      600001               azam hamza     4 stars    \n",
       "1     100001     300002      600002            Dimas Prihadi     5 stars    \n",
       "2     100001     300003      600003               Udi Keidar      1 star    \n",
       "3     100001     300004      600004       Charmi Lankeshwari     5 stars    \n",
       "4     100001     300005      600005           menaka Indunil     5 stars    \n",
       "..       ...        ...         ...                      ...          ...   \n",
       "554   100078     300563        NOOB          Ahmed Sharuvaan     5 stars    \n",
       "555   100078     300564      600514          Zafar Ahmed Zia     5 stars    \n",
       "556   100078     300565       FALSE       Ajeemushshan Iqbal     3 stars    \n",
       "557   100078     300566      600515           Raizar Moulana     5 stars    \n",
       "558   100078     300567        NOOB  Ibrahin Ibrahim mohamed     4 stars    \n",
       "\n",
       "                                                REVIEW  \n",
       "0                                       But over pricy  \n",
       "1                              Always love Java Lounge  \n",
       "2    Bad service~ dissapointing coffee and good. No...  \n",
       "3    Lovely strawberry cheesecake... N had alot of ...  \n",
       "4                    Grate place to have a refreshment  \n",
       "..                                                 ...  \n",
       "554                                                NaN  \n",
       "555                                                NaN  \n",
       "556                                                NaN  \n",
       "557                                                NaN  \n",
       "558                                                NaN  \n",
       "\n",
       "[559 rows x 6 columns]"
      ]
     },
     "execution_count": 1,
     "metadata": {},
     "output_type": "execute_result"
    }
   ],
   "source": [
    "import pandas as pd\n",
    "df=pd.read_csv(\"reviews.csv\",sep=\",\")\n",
    "df"
   ]
  },
  {
   "cell_type": "code",
   "execution_count": 2,
   "metadata": {},
   "outputs": [
    {
     "ename": "NameError",
     "evalue": "name 'data' is not defined",
     "output_type": "error",
     "traceback": [
      "\u001b[1;31m---------------------------------------------------------------------------\u001b[0m",
      "\u001b[1;31mNameError\u001b[0m                                 Traceback (most recent call last)",
      "\u001b[1;32m<ipython-input-2-9b61f5b01fe3>\u001b[0m in \u001b[0;36m<module>\u001b[1;34m\u001b[0m\n\u001b[1;32m----> 1\u001b[1;33m \u001b[0mcol\u001b[0m \u001b[1;33m=\u001b[0m \u001b[0mdata\u001b[0m\u001b[1;33m.\u001b[0m\u001b[0mcolumns\u001b[0m       \u001b[1;31m# .columns gives columns names in data\u001b[0m\u001b[1;33m\u001b[0m\u001b[1;33m\u001b[0m\u001b[0m\n\u001b[0m\u001b[0;32m      2\u001b[0m \u001b[0mprint\u001b[0m\u001b[1;33m(\u001b[0m\u001b[0mcol\u001b[0m\u001b[1;33m)\u001b[0m\u001b[1;33m\u001b[0m\u001b[1;33m\u001b[0m\u001b[0m\n",
      "\u001b[1;31mNameError\u001b[0m: name 'data' is not defined"
     ]
    }
   ],
   "source": [
    "col = data.columns       # .columns gives columns names in data \n",
    "print(col)"
   ]
  },
  {
   "cell_type": "code",
   "execution_count": 3,
   "metadata": {},
   "outputs": [
    {
     "ename": "NameError",
     "evalue": "name 'reviews' is not defined",
     "output_type": "error",
     "traceback": [
      "\u001b[1;31m---------------------------------------------------------------------------\u001b[0m",
      "\u001b[1;31mNameError\u001b[0m                                 Traceback (most recent call last)",
      "\u001b[1;32m<ipython-input-3-0ac22fe0aea7>\u001b[0m in \u001b[0;36m<module>\u001b[1;34m\u001b[0m\n\u001b[1;32m----> 1\u001b[1;33m \u001b[0mreviews\u001b[0m\u001b[1;33m.\u001b[0m\u001b[0mhead\u001b[0m\u001b[1;33m(\u001b[0m\u001b[1;33m)\u001b[0m\u001b[1;33m\u001b[0m\u001b[1;33m\u001b[0m\u001b[0m\n\u001b[0m",
      "\u001b[1;31mNameError\u001b[0m: name 'reviews' is not defined"
     ]
    }
   ],
   "source": [
    "reviews.head()"
   ]
  },
  {
   "cell_type": "code",
   "execution_count": 4,
   "metadata": {},
   "outputs": [
    {
     "data": {
      "text/html": [
       "<div>\n",
       "<style scoped>\n",
       "    .dataframe tbody tr th:only-of-type {\n",
       "        vertical-align: middle;\n",
       "    }\n",
       "\n",
       "    .dataframe tbody tr th {\n",
       "        vertical-align: top;\n",
       "    }\n",
       "\n",
       "    .dataframe thead th {\n",
       "        text-align: right;\n",
       "    }\n",
       "</style>\n",
       "<table border=\"1\" class=\"dataframe\">\n",
       "  <thead>\n",
       "    <tr style=\"text-align: right;\">\n",
       "      <th></th>\n",
       "      <th>SHOP_ID</th>\n",
       "      <th>REVIEW_ID</th>\n",
       "      <th>LOCAL_GUIDE</th>\n",
       "      <th>NAME</th>\n",
       "      <th>REVIEW_STARS</th>\n",
       "      <th>REVIEW</th>\n",
       "    </tr>\n",
       "  </thead>\n",
       "  <tbody>\n",
       "    <tr>\n",
       "      <th>0</th>\n",
       "      <td>100001</td>\n",
       "      <td>300001</td>\n",
       "      <td>600001</td>\n",
       "      <td>azam hamza</td>\n",
       "      <td>4 stars</td>\n",
       "      <td>But over pricy</td>\n",
       "    </tr>\n",
       "    <tr>\n",
       "      <th>1</th>\n",
       "      <td>100001</td>\n",
       "      <td>300002</td>\n",
       "      <td>600002</td>\n",
       "      <td>Dimas Prihadi</td>\n",
       "      <td>5 stars</td>\n",
       "      <td>Always love Java Lounge</td>\n",
       "    </tr>\n",
       "    <tr>\n",
       "      <th>2</th>\n",
       "      <td>100001</td>\n",
       "      <td>300003</td>\n",
       "      <td>600003</td>\n",
       "      <td>Udi Keidar</td>\n",
       "      <td>1 star</td>\n",
       "      <td>Bad service~ dissapointing coffee and good. No...</td>\n",
       "    </tr>\n",
       "    <tr>\n",
       "      <th>3</th>\n",
       "      <td>100001</td>\n",
       "      <td>300004</td>\n",
       "      <td>600004</td>\n",
       "      <td>Charmi Lankeshwari</td>\n",
       "      <td>5 stars</td>\n",
       "      <td>Lovely strawberry cheesecake... N had alot of ...</td>\n",
       "    </tr>\n",
       "    <tr>\n",
       "      <th>4</th>\n",
       "      <td>100001</td>\n",
       "      <td>300005</td>\n",
       "      <td>600005</td>\n",
       "      <td>menaka Indunil</td>\n",
       "      <td>5 stars</td>\n",
       "      <td>Grate place to have a refreshment</td>\n",
       "    </tr>\n",
       "    <tr>\n",
       "      <th>...</th>\n",
       "      <td>...</td>\n",
       "      <td>...</td>\n",
       "      <td>...</td>\n",
       "      <td>...</td>\n",
       "      <td>...</td>\n",
       "      <td>...</td>\n",
       "    </tr>\n",
       "    <tr>\n",
       "      <th>554</th>\n",
       "      <td>100078</td>\n",
       "      <td>300563</td>\n",
       "      <td>NOOB</td>\n",
       "      <td>Ahmed Sharuvaan</td>\n",
       "      <td>5 stars</td>\n",
       "      <td>NaN</td>\n",
       "    </tr>\n",
       "    <tr>\n",
       "      <th>555</th>\n",
       "      <td>100078</td>\n",
       "      <td>300564</td>\n",
       "      <td>600514</td>\n",
       "      <td>Zafar Ahmed Zia</td>\n",
       "      <td>5 stars</td>\n",
       "      <td>NaN</td>\n",
       "    </tr>\n",
       "    <tr>\n",
       "      <th>556</th>\n",
       "      <td>100078</td>\n",
       "      <td>300565</td>\n",
       "      <td>FALSE</td>\n",
       "      <td>Ajeemushshan Iqbal</td>\n",
       "      <td>3 stars</td>\n",
       "      <td>NaN</td>\n",
       "    </tr>\n",
       "    <tr>\n",
       "      <th>557</th>\n",
       "      <td>100078</td>\n",
       "      <td>300566</td>\n",
       "      <td>600515</td>\n",
       "      <td>Raizar Moulana</td>\n",
       "      <td>5 stars</td>\n",
       "      <td>NaN</td>\n",
       "    </tr>\n",
       "    <tr>\n",
       "      <th>558</th>\n",
       "      <td>100078</td>\n",
       "      <td>300567</td>\n",
       "      <td>NOOB</td>\n",
       "      <td>Ibrahin Ibrahim mohamed</td>\n",
       "      <td>4 stars</td>\n",
       "      <td>NaN</td>\n",
       "    </tr>\n",
       "  </tbody>\n",
       "</table>\n",
       "<p>559 rows × 6 columns</p>\n",
       "</div>"
      ],
      "text/plain": [
       "     SHOP_ID  REVIEW_ID LOCAL_GUIDE                     NAME REVIEW_STARS  \\\n",
       "0     100001     300001      600001               azam hamza     4 stars    \n",
       "1     100001     300002      600002            Dimas Prihadi     5 stars    \n",
       "2     100001     300003      600003               Udi Keidar      1 star    \n",
       "3     100001     300004      600004       Charmi Lankeshwari     5 stars    \n",
       "4     100001     300005      600005           menaka Indunil     5 stars    \n",
       "..       ...        ...         ...                      ...          ...   \n",
       "554   100078     300563        NOOB          Ahmed Sharuvaan     5 stars    \n",
       "555   100078     300564      600514          Zafar Ahmed Zia     5 stars    \n",
       "556   100078     300565       FALSE       Ajeemushshan Iqbal     3 stars    \n",
       "557   100078     300566      600515           Raizar Moulana     5 stars    \n",
       "558   100078     300567        NOOB  Ibrahin Ibrahim mohamed     4 stars    \n",
       "\n",
       "                                                REVIEW  \n",
       "0                                       But over pricy  \n",
       "1                              Always love Java Lounge  \n",
       "2    Bad service~ dissapointing coffee and good. No...  \n",
       "3    Lovely strawberry cheesecake... N had alot of ...  \n",
       "4                    Grate place to have a refreshment  \n",
       "..                                                 ...  \n",
       "554                                                NaN  \n",
       "555                                                NaN  \n",
       "556                                                NaN  \n",
       "557                                                NaN  \n",
       "558                                                NaN  \n",
       "\n",
       "[559 rows x 6 columns]"
      ]
     },
     "execution_count": 4,
     "metadata": {},
     "output_type": "execute_result"
    }
   ],
   "source": [
    "import pandas as pd\n",
    "df=pd.read_csv(\"reviews.csv\",sep=\",\")\n",
    "df"
   ]
  },
  {
   "cell_type": "code",
   "execution_count": 5,
   "metadata": {},
   "outputs": [],
   "source": [
    "data = pd.read_csv('reviews.csv')"
   ]
  },
  {
   "cell_type": "code",
   "execution_count": 6,
   "metadata": {},
   "outputs": [
    {
     "data": {
      "text/html": [
       "<div>\n",
       "<style scoped>\n",
       "    .dataframe tbody tr th:only-of-type {\n",
       "        vertical-align: middle;\n",
       "    }\n",
       "\n",
       "    .dataframe tbody tr th {\n",
       "        vertical-align: top;\n",
       "    }\n",
       "\n",
       "    .dataframe thead th {\n",
       "        text-align: right;\n",
       "    }\n",
       "</style>\n",
       "<table border=\"1\" class=\"dataframe\">\n",
       "  <thead>\n",
       "    <tr style=\"text-align: right;\">\n",
       "      <th></th>\n",
       "      <th>SHOP_ID</th>\n",
       "      <th>REVIEW_ID</th>\n",
       "      <th>LOCAL_GUIDE</th>\n",
       "      <th>NAME</th>\n",
       "      <th>REVIEW_STARS</th>\n",
       "      <th>REVIEW</th>\n",
       "    </tr>\n",
       "  </thead>\n",
       "  <tbody>\n",
       "    <tr>\n",
       "      <th>0</th>\n",
       "      <td>100001</td>\n",
       "      <td>300001</td>\n",
       "      <td>600001</td>\n",
       "      <td>azam hamza</td>\n",
       "      <td>4 stars</td>\n",
       "      <td>But over pricy</td>\n",
       "    </tr>\n",
       "    <tr>\n",
       "      <th>1</th>\n",
       "      <td>100001</td>\n",
       "      <td>300002</td>\n",
       "      <td>600002</td>\n",
       "      <td>Dimas Prihadi</td>\n",
       "      <td>5 stars</td>\n",
       "      <td>Always love Java Lounge</td>\n",
       "    </tr>\n",
       "    <tr>\n",
       "      <th>2</th>\n",
       "      <td>100001</td>\n",
       "      <td>300003</td>\n",
       "      <td>600003</td>\n",
       "      <td>Udi Keidar</td>\n",
       "      <td>1 star</td>\n",
       "      <td>Bad service~ dissapointing coffee and good. No...</td>\n",
       "    </tr>\n",
       "    <tr>\n",
       "      <th>3</th>\n",
       "      <td>100001</td>\n",
       "      <td>300004</td>\n",
       "      <td>600004</td>\n",
       "      <td>Charmi Lankeshwari</td>\n",
       "      <td>5 stars</td>\n",
       "      <td>Lovely strawberry cheesecake... N had alot of ...</td>\n",
       "    </tr>\n",
       "    <tr>\n",
       "      <th>4</th>\n",
       "      <td>100001</td>\n",
       "      <td>300005</td>\n",
       "      <td>600005</td>\n",
       "      <td>menaka Indunil</td>\n",
       "      <td>5 stars</td>\n",
       "      <td>Grate place to have a refreshment</td>\n",
       "    </tr>\n",
       "  </tbody>\n",
       "</table>\n",
       "</div>"
      ],
      "text/plain": [
       "   SHOP_ID  REVIEW_ID LOCAL_GUIDE                NAME REVIEW_STARS  \\\n",
       "0   100001     300001      600001          azam hamza     4 stars    \n",
       "1   100001     300002      600002       Dimas Prihadi     5 stars    \n",
       "2   100001     300003      600003          Udi Keidar      1 star    \n",
       "3   100001     300004      600004  Charmi Lankeshwari     5 stars    \n",
       "4   100001     300005      600005      menaka Indunil     5 stars    \n",
       "\n",
       "                                              REVIEW  \n",
       "0                                     But over pricy  \n",
       "1                            Always love Java Lounge  \n",
       "2  Bad service~ dissapointing coffee and good. No...  \n",
       "3  Lovely strawberry cheesecake... N had alot of ...  \n",
       "4                  Grate place to have a refreshment  "
      ]
     },
     "execution_count": 6,
     "metadata": {},
     "output_type": "execute_result"
    }
   ],
   "source": [
    "data.head()"
   ]
  },
  {
   "cell_type": "code",
   "execution_count": 7,
   "metadata": {},
   "outputs": [
    {
     "name": "stdout",
     "output_type": "stream",
     "text": [
      "Index(['SHOP_ID', 'REVIEW_ID', 'LOCAL_GUIDE', 'NAME', 'REVIEW_STARS',\n",
      "       'REVIEW'],\n",
      "      dtype='object')\n"
     ]
    }
   ],
   "source": [
    "col = data.columns       # .columns gives columns names in data \n",
    "print(col)"
   ]
  },
  {
   "cell_type": "code",
   "execution_count": 8,
   "metadata": {},
   "outputs": [],
   "source": [
    "y = data.SHOP_ID                         \n",
    "x = data.REVIEW_STARS\n"
   ]
  },
  {
   "cell_type": "code",
   "execution_count": 9,
   "metadata": {},
   "outputs": [
    {
     "data": {
      "text/plain": [
       "0     4 stars \n",
       "1     5 stars \n",
       "2      1 star \n",
       "3     5 stars \n",
       "4     5 stars \n",
       "Name: REVIEW_STARS, dtype: object"
      ]
     },
     "execution_count": 9,
     "metadata": {},
     "output_type": "execute_result"
    }
   ],
   "source": [
    "x.head()"
   ]
  },
  {
   "cell_type": "code",
   "execution_count": 3,
   "metadata": {},
   "outputs": [],
   "source": [
    "import seaborn as sns"
   ]
  },
  {
   "cell_type": "code",
   "execution_count": 11,
   "metadata": {},
   "outputs": [],
   "source": [
    "import seaborn as sns"
   ]
  },
  {
   "cell_type": "code",
   "execution_count": 12,
   "metadata": {},
   "outputs": [
    {
     "name": "stdout",
     "output_type": "stream",
     "text": [
      "Number of Reviews:  100001    10\n",
      "100019    10\n",
      "100049    10\n",
      "100009    10\n",
      "100010    10\n",
      "          ..\n",
      "100076     2\n",
      "100011     1\n",
      "100047     1\n",
      "100041     1\n",
      "100062     1\n",
      "Name: SHOP_ID, Length: 75, dtype: int64\n"
     ]
    },
    {
     "data": {
      "image/png": "[encoded data removed]",
      "text/plain": [
       "<Figure size 432x288 with 1 Axes>"
      ]
     },
     "metadata": {
      "needs_background": "light"
     },
     "output_type": "display_data"
    }
   ],
   "source": [
    "ax = sns.countplot(y,label=\"shop IDs\")       \n",
    "R = y.value_counts()\n",
    "print('Number of Reviews: ',R)\n"
   ]
  },
  {
   "cell_type": "code",
   "execution_count": 8,
   "metadata": {},
   "outputs": [],
   "source": [
    "import pandas as pd\n",
    "df=pd.read_csv(\"reviews.csv\",sep=\",\")\n",
    "df\n",
    "import seaborn as sns"
   ]
  },
  {
   "cell_type": "code",
   "execution_count": 9,
   "metadata": {},
   "outputs": [],
   "source": [
    "data = pd.read_csv('reviews.csv')"
   ]
  },
  {
   "cell_type": "code",
   "execution_count": 11,
   "metadata": {},
   "outputs": [],
   "source": [
    "y = data.REVIEW_STARS                         \n",
    "x = data.LOCAL_GUIDE\n"
   ]
  },
  {
   "cell_type": "code",
   "execution_count": 13,
   "metadata": {},
   "outputs": [
    {
     "name": "stdout",
     "output_type": "stream",
     "text": [
      "Reviews:   5 stars     310\n",
      " 4 stars     145\n",
      " 3 stars      58\n",
      " 1 star       26\n",
      " 2 stars      20\n",
      "Name: REVIEW_STARS, dtype: int64\n"
     ]
    },
    {
     "data": {
      "image/png": "[encoded data removed]",
      "text/plain": [
       "<Figure size 432x288 with 1 Axes>"
      ]
     },
     "metadata": {
      "needs_background": "light"
     },
     "output_type": "display_data"
    }
   ],
   "source": [
    "ax = sns.countplot(y,label=\"Local Guide\")       \n",
    "R = y.value_counts()\n",
    "print('Reviews: ',R)"
   ]
  },
  {
   "cell_type": "code",
   "execution_count": null,
   "metadata": {},
   "outputs": [],
   "source": []
  }
 ],
 "metadata": {
  "kernelspec": {
   "display_name": "Python 3",
   "language": "python",
   "name": "python3"
  },
  "language_info": {
   "codemirror_mode": {
    "name": "ipython",
    "version": 3
   },
   "file_extension": ".py",
   "mimetype": "text/x-python",
   "name": "python",
   "nbconvert_exporter": "python",
   "pygments_lexer": "ipython3",
   "version": "3.8.3"
  }
 },
 "nbformat": 4,
 "nbformat_minor": 4
}
